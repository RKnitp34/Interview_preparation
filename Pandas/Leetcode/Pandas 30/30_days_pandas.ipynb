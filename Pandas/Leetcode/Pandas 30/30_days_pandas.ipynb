{
 "cells": [
  {
   "cell_type": "markdown",
   "metadata": {},
   "source": [
    "#### 1.customers-who-never-order"
   ]
  },
  {
   "cell_type": "code",
   "execution_count": 2,
   "metadata": {},
   "outputs": [],
   "source": [
    "# if id is in cust_id don't select that. for that we can use tilde sign\n",
    "df1[~df1['id'].isin(cust_id)][['name']].rename(columns={'name':'Customers'})"
   ]
  },
  {
   "cell_type": "markdown",
   "metadata": {},
   "source": [
    "#### 2.invalid-tweets"
   ]
  },
  {
   "cell_type": "code",
   "execution_count": null,
   "metadata": {},
   "outputs": [],
   "source": [
    "\n",
    "# The tweet is invalid if the number of characters used in the content of the tweet is strictly greater than 15\n",
    "# Method 1 (Using str)\n",
    "df[df['content'].str.len()>15][['tweet_id']]\n",
    "\n",
    "# Method 2 (using lambda functions)\n",
    "df[df['content'].apply(lambda x: len(x)>15)][['tweet_id']]"
   ]
  },
  {
   "cell_type": "markdown",
   "metadata": {},
   "source": [
    "#### 3.calculate-special-bonus"
   ]
  },
  {
   "cell_type": "code",
   "execution_count": null,
   "metadata": {},
   "outputs": [],
   "source": [
    "# Write a solution to calculate the bonus of each employee. The bonus of an employee is 100% \n",
    "# of their salary if the ID of the employee is an odd number and the employee's name \n",
    "# does not start with the character 'M'. The bonus of an employee is 0 otherwise.\n",
    "\n",
    "# You can use dataframe and apply\n",
    "df['bonus'] = df.apply(lambda row: row['salary'] if row['employee_id'] % 2 == 1 \n",
    "                       and not row['name'].startswith('M') else 0, axis=1)\n",
    "\n",
    "# Using np.where()\n",
    "df['bonus'] = np.where((df['employee_id']%2!=0) & \n",
    "                       (~(df['name'].str.startswith('M'))),df['salary'],0)"
   ]
  },
  {
   "cell_type": "markdown",
   "metadata": {},
   "source": [
    "#### 4.fix-names-in-a-table"
   ]
  },
  {
   "cell_type": "code",
   "execution_count": null,
   "metadata": {},
   "outputs": [],
   "source": [
    "# Write a solution to fix the names so that only the first character is uppercase and the rest are lowercase.\n",
    "\n",
    "# Uppercase first letter rest of the letter lower case\n",
    "df['name']=df['name'].apply(lambda x:x[0].upper() + x[1:].lower())\n",
    "\n",
    "# Using capitalize\n",
    "df['name'] = df['name'].str.capitalize()"
   ]
  },
  {
   "cell_type": "markdown",
   "metadata": {},
   "source": [
    "#### 5.invalid-tweets"
   ]
  },
  {
   "cell_type": "markdown",
   "metadata": {},
   "source": [
    "- Write a solution to find the users who have valid emails.\n",
    "\n",
    "- A valid e-mail has a prefix name and a domain where:\n",
    "\n",
    "- The prefix name is a string that may contain letters (upper or lower case), digits, underscore '_', period '.', and/or dash '-'. The prefix name must start with a letter.\n",
    "The domain is '@leetcode.com'."
   ]
  },
  {
   "cell_type": "code",
   "execution_count": null,
   "metadata": {},
   "outputs": [],
   "source": [
    "users[users['mail'].str.match(r'^[A-Za-z][A-Za-z0-9_\\.\\-]*@leetcode(\\?com)?\\.com$')]"
   ]
  },
  {
   "cell_type": "markdown",
   "metadata": {},
   "source": [
    "#### 6. patients-with-a-condition"
   ]
  },
  {
   "cell_type": "code",
   "execution_count": 6,
   "metadata": {},
   "outputs": [
    {
     "name": "stdout",
     "output_type": "stream",
     "text": [
      "DIAB1\n"
     ]
    }
   ],
   "source": [
    "df[df['conditions'].apply(lambda x: any(x.startswith('DIAB1') for x in x.split()))]"
   ]
  },
  {
   "cell_type": "markdown",
   "metadata": {},
   "source": [
    "#### 7.invalid-tweets"
   ]
  },
  {
   "cell_type": "code",
   "execution_count": null,
   "metadata": {},
   "outputs": [],
   "source": [
    "def nth_highest_salary(df: pd.DataFrame, N: int) -> pd.DataFrame:\n",
    "    col_name  = f'getNthHighestSalary({N})'\n",
    "    if df.shape[0] < N:\n",
    "        return pd.DataFrame({col_name: [None]})\n",
    "    \n",
    "    # Rank salaries in descending order\n",
    "    df['rank'] = df['salary'].rank(method='dense', ascending=False)\n",
    "    \n",
    "    # Filter the Nth highest salary\n",
    "    nth_highest = df[df['rank'] == N].iloc[0:1:]\n",
    "    \n",
    "    # # If there is no Nth highest salary, return 'null'\n",
    "    if nth_highest.empty:\n",
    "        return pd.DataFrame({col_name: [None]})\n",
    "    # return nth_highest\n",
    "    return nth_highest[['salary']].rename(columns = {'salary':col_name})"
   ]
  },
  {
   "cell_type": "markdown",
   "metadata": {},
   "source": [
    "#### 8.rank-scores"
   ]
  },
  {
   "cell_type": "markdown",
   "metadata": {},
   "source": [
    "- Write a solution to find the rank of the scores. The ranking should be calculated according to the following rules:\n",
    "\n",
    "    - The scores should be ranked from the highest to the lowest.\n",
    "    - If there is a tie between two scores, both should have the same ranking.\n",
    "    - After a tie, the next ranking number should be the next consecutive integer value. In other words, there should be no holes between ranks."
   ]
  },
  {
   "cell_type": "code",
   "execution_count": null,
   "metadata": {},
   "outputs": [],
   "source": [
    "df['rank'] = df['score'].rank(method='dense',ascending=False)"
   ]
  },
  {
   "cell_type": "markdown",
   "metadata": {},
   "source": [
    "#### 9.delete-duplicate-emails"
   ]
  },
  {
   "cell_type": "markdown",
   "metadata": {},
   "source": [
    "- Write a solution to delete all duplicate emails, keeping only one unique email with the smallest id."
   ]
  },
  {
   "cell_type": "code",
   "execution_count": null,
   "metadata": {},
   "outputs": [],
   "source": [
    "def delete_duplicate_emails(df: pd.DataFrame) -> None:\n",
    "  # df = df.sort_values(by='email')\n",
    "  # df = df.groupby('email').agg({'id':'min'}).reset_index()[['id','email']].sort_values(by='id')\n",
    "  df.sort_values(by='id',ascending=True,inplace=True)\n",
    "  df.drop_duplicates(subset='email',keep='first'    ,inplace=True)"
   ]
  },
  {
   "cell_type": "markdown",
   "metadata": {},
   "source": [
    "#### 10.rearrange-products-table"
   ]
  },
  {
   "cell_type": "code",
   "execution_count": null,
   "metadata": {},
   "outputs": [],
   "source": [
    "def rearrange_products_table(df: pd.DataFrame) -> pd.DataFrame:\n",
    "  df = pd.melt(df,id_vars=['product_id'],value_vars = df.columns[1:],var_name = 'store',value_name='price')\n",
    "  return df[df['price'].notnull()]"
   ]
  },
  {
   "cell_type": "markdown",
   "metadata": {},
   "source": [
    "#### 11.count-salary-categories"
   ]
  },
  {
   "cell_type": "markdown",
   "metadata": {},
   "source": [
    "- Write a solution to calculate the number of bank accounts for each salary category. The salary categories are:\n",
    "\n",
    "    - \"Low Salary\": All the salaries strictly less than $20000.\n",
    "    - \"Average Salary\": All the salaries in the inclusive range [$20000, $50000].\n",
    "    - \"High Salary\": All the salaries strictly greater than $50000."
   ]
  },
  {
   "cell_type": "code",
   "execution_count": null,
   "metadata": {},
   "outputs": [],
   "source": [
    "def count_salary_categories(df: pd.DataFrame) -> pd.DataFrame:\n",
    "  df['category'] = pd.cut(df['income'],bins=[-np.inf,20000,50000,np.inf],labels=['Low Salary','Average Salary','High Salary'],right=True)\n",
    "  mask = df['income']==20000\n",
    "  df.loc[mask,'category'] = 'Average Salary'\n",
    "  df = df.groupby('category').agg(accounts_count = ('category','count')).reset_index().sort_values(by='accounts_count')\n"
   ]
  },
  {
   "cell_type": "markdown",
   "metadata": {},
   "source": [
    "#### 12.group-sold-products-by-the-date"
   ]
  },
  {
   "cell_type": "code",
   "execution_count": null,
   "metadata": {},
   "outputs": [],
   "source": [
    "def categorize_products(df: pd.DataFrame) -> pd.DataFrame:\n",
    "  df = df.groupby('sell_date').agg(num_sold = ('product','nunique'), products = ('product',lambda x: sorted(list(set(x))))).reset_index().sort_values(by='sell_date')\n",
    "  df['products'] = df['products'].apply(lambda x: ','.join(x))\n",
    "  return df"
   ]
  },
  {
   "cell_type": "markdown",
   "metadata": {},
   "source": [
    "#### 13.sales-person"
   ]
  },
  {
   "cell_type": "code",
   "execution_count": null,
   "metadata": {},
   "outputs": [],
   "source": [
    "def sales_person(sp,comp,ord):\n",
    "  df = pd.merge(sp,ord,on=['sales_id'],how='left').merge(comp,on='com_id',how='left')[['name_x','name_y']].rename(columns = {'name_x':'name','name_y':'colr'})\n",
    "  df = df.groupby(['name']).agg(colr_list = ('colr',lambda x: list(x))).reset_index()\n",
    "\n",
    "  df = df[df['colr_list'].apply(lambda x: False if 'RED' in x else True)]\n",
    "  return df[['name']] \n",
    "    \n"
   ]
  }
 ],
 "metadata": {
  "kernelspec": {
   "display_name": "Python 3",
   "language": "python",
   "name": "python3"
  },
  "language_info": {
   "codemirror_mode": {
    "name": "ipython",
    "version": 3
   },
   "file_extension": ".py",
   "mimetype": "text/x-python",
   "name": "python",
   "nbconvert_exporter": "python",
   "pygments_lexer": "ipython3",
   "version": "3.11.0"
  }
 },
 "nbformat": 4,
 "nbformat_minor": 2
}
